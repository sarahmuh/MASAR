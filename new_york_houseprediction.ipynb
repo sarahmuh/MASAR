{
  "cells": [
    {
      "cell_type": "markdown",
      "metadata": {
        "id": "view-in-github",
        "colab_type": "text"
      },
      "source": [
        "<a href=\"https://colab.research.google.com/github/sarahmuh/MASAR/blob/main/new_york_houseprediction.ipynb\" target=\"_parent\"><img src=\"https://colab.research.google.com/assets/colab-badge.svg\" alt=\"Open In Colab\"/></a>"
      ]
    },
    {
      "cell_type": "code",
      "execution_count": 4,
      "id": "139b28a9",
      "metadata": {
        "_cell_guid": "b1076dfc-b9ad-4769-8c92-a6c4dae69d19",
        "_uuid": "8f2839f25d086af736a60e9eeb907d3b93b6e0e5",
        "execution": {
          "iopub.execute_input": "2024-02-01T16:24:31.654326Z",
          "iopub.status.busy": "2024-02-01T16:24:31.653103Z",
          "iopub.status.idle": "2024-02-01T16:24:32.647865Z",
          "shell.execute_reply": "2024-02-01T16:24:32.646715Z"
        },
        "papermill": {
          "duration": 1.008559,
          "end_time": "2024-02-01T16:24:32.650893",
          "exception": false,
          "start_time": "2024-02-01T16:24:31.642334",
          "status": "completed"
        },
        "tags": [],
        "id": "139b28a9"
      },
      "outputs": [],
      "source": [
        "import numpy as np\n",
        "import pandas as pd\n",
        "\n",
        "import os\n",
        "for dirname, _, filenames in os.walk('/kaggle/input'):\n",
        "    for filename in filenames:\n",
        "        print(os.path.join(dirname, filename))"
      ]
    },
    {
      "cell_type": "markdown",
      "id": "172dae2e",
      "metadata": {
        "papermill": {
          "duration": 0.007186,
          "end_time": "2024-02-01T16:24:32.681196",
          "exception": false,
          "start_time": "2024-02-01T16:24:32.674010",
          "status": "completed"
        },
        "tags": [],
        "id": "172dae2e"
      },
      "source": [
        "# House price prediction Analysis"
      ]
    },
    {
      "cell_type": "code",
      "execution_count": 2,
      "id": "53b77934",
      "metadata": {
        "execution": {
          "iopub.execute_input": "2024-02-01T16:24:32.699462Z",
          "iopub.status.busy": "2024-02-01T16:24:32.698077Z",
          "iopub.status.idle": "2024-02-01T16:24:34.820473Z",
          "shell.execute_reply": "2024-02-01T16:24:34.819310Z"
        },
        "papermill": {
          "duration": 2.134983,
          "end_time": "2024-02-01T16:24:34.823699",
          "exception": false,
          "start_time": "2024-02-01T16:24:32.688716",
          "status": "completed"
        },
        "tags": [],
        "id": "53b77934"
      },
      "outputs": [],
      "source": [
        "#import the needed packages\n",
        "import matplotlib.pyplot as plt\n",
        "import seaborn as sns\n",
        "from scipy import stats\n",
        "from sklearn.ensemble import RandomForestRegressor\n",
        "from sklearn.model_selection import train_test_split\n",
        "import warnings\n",
        "warnings.filterwarnings(\"ignore\")"
      ]
    },
    {
      "cell_type": "code",
      "execution_count": 3,
      "id": "2e2d6c5c",
      "metadata": {
        "execution": {
          "iopub.execute_input": "2024-02-01T16:24:34.841968Z",
          "iopub.status.busy": "2024-02-01T16:24:34.841514Z",
          "iopub.status.idle": "2024-02-01T16:24:34.912741Z",
          "shell.execute_reply": "2024-02-01T16:24:34.911423Z"
        },
        "papermill": {
          "duration": 0.083912,
          "end_time": "2024-02-01T16:24:34.915867",
          "exception": false,
          "start_time": "2024-02-01T16:24:34.831955",
          "status": "completed"
        },
        "tags": [],
        "colab": {
          "base_uri": "https://localhost:8080/",
          "height": 401
        },
        "id": "2e2d6c5c",
        "outputId": "f69123f7-6156-4cc1-9bf4-b944aff1b564"
      },
      "outputs": [
        {
          "output_type": "error",
          "ename": "FileNotFoundError",
          "evalue": "[Errno 2] No such file or directory: '/kaggle/input/new-york-housing-market/NY-House-Dataset.csv'",
          "traceback": [
            "\u001b[0;31m---------------------------------------------------------------------------\u001b[0m",
            "\u001b[0;31mFileNotFoundError\u001b[0m                         Traceback (most recent call last)",
            "\u001b[0;32m<ipython-input-3-6b7ea672104a>\u001b[0m in \u001b[0;36m<cell line: 2>\u001b[0;34m()\u001b[0m\n\u001b[1;32m      1\u001b[0m \u001b[0;31m#read the data\u001b[0m\u001b[0;34m\u001b[0m\u001b[0;34m\u001b[0m\u001b[0m\n\u001b[0;32m----> 2\u001b[0;31m \u001b[0mdf\u001b[0m \u001b[0;34m=\u001b[0m \u001b[0mpd\u001b[0m\u001b[0;34m.\u001b[0m\u001b[0mread_csv\u001b[0m\u001b[0;34m(\u001b[0m\u001b[0;34m\"/kaggle/input/new-york-housing-market/NY-House-Dataset.csv\"\u001b[0m\u001b[0;34m)\u001b[0m\u001b[0;34m\u001b[0m\u001b[0;34m\u001b[0m\u001b[0m\n\u001b[0m",
            "\u001b[0;32m/usr/local/lib/python3.10/dist-packages/pandas/util/_decorators.py\u001b[0m in \u001b[0;36mwrapper\u001b[0;34m(*args, **kwargs)\u001b[0m\n\u001b[1;32m    209\u001b[0m                 \u001b[0;32melse\u001b[0m\u001b[0;34m:\u001b[0m\u001b[0;34m\u001b[0m\u001b[0;34m\u001b[0m\u001b[0m\n\u001b[1;32m    210\u001b[0m                     \u001b[0mkwargs\u001b[0m\u001b[0;34m[\u001b[0m\u001b[0mnew_arg_name\u001b[0m\u001b[0;34m]\u001b[0m \u001b[0;34m=\u001b[0m \u001b[0mnew_arg_value\u001b[0m\u001b[0;34m\u001b[0m\u001b[0;34m\u001b[0m\u001b[0m\n\u001b[0;32m--> 211\u001b[0;31m             \u001b[0;32mreturn\u001b[0m \u001b[0mfunc\u001b[0m\u001b[0;34m(\u001b[0m\u001b[0;34m*\u001b[0m\u001b[0margs\u001b[0m\u001b[0;34m,\u001b[0m \u001b[0;34m**\u001b[0m\u001b[0mkwargs\u001b[0m\u001b[0;34m)\u001b[0m\u001b[0;34m\u001b[0m\u001b[0;34m\u001b[0m\u001b[0m\n\u001b[0m\u001b[1;32m    212\u001b[0m \u001b[0;34m\u001b[0m\u001b[0m\n\u001b[1;32m    213\u001b[0m         \u001b[0;32mreturn\u001b[0m \u001b[0mcast\u001b[0m\u001b[0;34m(\u001b[0m\u001b[0mF\u001b[0m\u001b[0;34m,\u001b[0m \u001b[0mwrapper\u001b[0m\u001b[0;34m)\u001b[0m\u001b[0;34m\u001b[0m\u001b[0;34m\u001b[0m\u001b[0m\n",
            "\u001b[0;32m/usr/local/lib/python3.10/dist-packages/pandas/util/_decorators.py\u001b[0m in \u001b[0;36mwrapper\u001b[0;34m(*args, **kwargs)\u001b[0m\n\u001b[1;32m    329\u001b[0m                     \u001b[0mstacklevel\u001b[0m\u001b[0;34m=\u001b[0m\u001b[0mfind_stack_level\u001b[0m\u001b[0;34m(\u001b[0m\u001b[0;34m)\u001b[0m\u001b[0;34m,\u001b[0m\u001b[0;34m\u001b[0m\u001b[0;34m\u001b[0m\u001b[0m\n\u001b[1;32m    330\u001b[0m                 )\n\u001b[0;32m--> 331\u001b[0;31m             \u001b[0;32mreturn\u001b[0m \u001b[0mfunc\u001b[0m\u001b[0;34m(\u001b[0m\u001b[0;34m*\u001b[0m\u001b[0margs\u001b[0m\u001b[0;34m,\u001b[0m \u001b[0;34m**\u001b[0m\u001b[0mkwargs\u001b[0m\u001b[0;34m)\u001b[0m\u001b[0;34m\u001b[0m\u001b[0;34m\u001b[0m\u001b[0m\n\u001b[0m\u001b[1;32m    332\u001b[0m \u001b[0;34m\u001b[0m\u001b[0m\n\u001b[1;32m    333\u001b[0m         \u001b[0;31m# error: \"Callable[[VarArg(Any), KwArg(Any)], Any]\" has no\u001b[0m\u001b[0;34m\u001b[0m\u001b[0;34m\u001b[0m\u001b[0m\n",
            "\u001b[0;32m/usr/local/lib/python3.10/dist-packages/pandas/io/parsers/readers.py\u001b[0m in \u001b[0;36mread_csv\u001b[0;34m(filepath_or_buffer, sep, delimiter, header, names, index_col, usecols, squeeze, prefix, mangle_dupe_cols, dtype, engine, converters, true_values, false_values, skipinitialspace, skiprows, skipfooter, nrows, na_values, keep_default_na, na_filter, verbose, skip_blank_lines, parse_dates, infer_datetime_format, keep_date_col, date_parser, dayfirst, cache_dates, iterator, chunksize, compression, thousands, decimal, lineterminator, quotechar, quoting, doublequote, escapechar, comment, encoding, encoding_errors, dialect, error_bad_lines, warn_bad_lines, on_bad_lines, delim_whitespace, low_memory, memory_map, float_precision, storage_options)\u001b[0m\n\u001b[1;32m    948\u001b[0m     \u001b[0mkwds\u001b[0m\u001b[0;34m.\u001b[0m\u001b[0mupdate\u001b[0m\u001b[0;34m(\u001b[0m\u001b[0mkwds_defaults\u001b[0m\u001b[0;34m)\u001b[0m\u001b[0;34m\u001b[0m\u001b[0;34m\u001b[0m\u001b[0m\n\u001b[1;32m    949\u001b[0m \u001b[0;34m\u001b[0m\u001b[0m\n\u001b[0;32m--> 950\u001b[0;31m     \u001b[0;32mreturn\u001b[0m \u001b[0m_read\u001b[0m\u001b[0;34m(\u001b[0m\u001b[0mfilepath_or_buffer\u001b[0m\u001b[0;34m,\u001b[0m \u001b[0mkwds\u001b[0m\u001b[0;34m)\u001b[0m\u001b[0;34m\u001b[0m\u001b[0;34m\u001b[0m\u001b[0m\n\u001b[0m\u001b[1;32m    951\u001b[0m \u001b[0;34m\u001b[0m\u001b[0m\n\u001b[1;32m    952\u001b[0m \u001b[0;34m\u001b[0m\u001b[0m\n",
            "\u001b[0;32m/usr/local/lib/python3.10/dist-packages/pandas/io/parsers/readers.py\u001b[0m in \u001b[0;36m_read\u001b[0;34m(filepath_or_buffer, kwds)\u001b[0m\n\u001b[1;32m    603\u001b[0m \u001b[0;34m\u001b[0m\u001b[0m\n\u001b[1;32m    604\u001b[0m     \u001b[0;31m# Create the parser.\u001b[0m\u001b[0;34m\u001b[0m\u001b[0;34m\u001b[0m\u001b[0m\n\u001b[0;32m--> 605\u001b[0;31m     \u001b[0mparser\u001b[0m \u001b[0;34m=\u001b[0m \u001b[0mTextFileReader\u001b[0m\u001b[0;34m(\u001b[0m\u001b[0mfilepath_or_buffer\u001b[0m\u001b[0;34m,\u001b[0m \u001b[0;34m**\u001b[0m\u001b[0mkwds\u001b[0m\u001b[0;34m)\u001b[0m\u001b[0;34m\u001b[0m\u001b[0;34m\u001b[0m\u001b[0m\n\u001b[0m\u001b[1;32m    606\u001b[0m \u001b[0;34m\u001b[0m\u001b[0m\n\u001b[1;32m    607\u001b[0m     \u001b[0;32mif\u001b[0m \u001b[0mchunksize\u001b[0m \u001b[0;32mor\u001b[0m \u001b[0miterator\u001b[0m\u001b[0;34m:\u001b[0m\u001b[0;34m\u001b[0m\u001b[0;34m\u001b[0m\u001b[0m\n",
            "\u001b[0;32m/usr/local/lib/python3.10/dist-packages/pandas/io/parsers/readers.py\u001b[0m in \u001b[0;36m__init__\u001b[0;34m(self, f, engine, **kwds)\u001b[0m\n\u001b[1;32m   1440\u001b[0m \u001b[0;34m\u001b[0m\u001b[0m\n\u001b[1;32m   1441\u001b[0m         \u001b[0mself\u001b[0m\u001b[0;34m.\u001b[0m\u001b[0mhandles\u001b[0m\u001b[0;34m:\u001b[0m \u001b[0mIOHandles\u001b[0m \u001b[0;34m|\u001b[0m \u001b[0;32mNone\u001b[0m \u001b[0;34m=\u001b[0m \u001b[0;32mNone\u001b[0m\u001b[0;34m\u001b[0m\u001b[0;34m\u001b[0m\u001b[0m\n\u001b[0;32m-> 1442\u001b[0;31m         \u001b[0mself\u001b[0m\u001b[0;34m.\u001b[0m\u001b[0m_engine\u001b[0m \u001b[0;34m=\u001b[0m \u001b[0mself\u001b[0m\u001b[0;34m.\u001b[0m\u001b[0m_make_engine\u001b[0m\u001b[0;34m(\u001b[0m\u001b[0mf\u001b[0m\u001b[0;34m,\u001b[0m \u001b[0mself\u001b[0m\u001b[0;34m.\u001b[0m\u001b[0mengine\u001b[0m\u001b[0;34m)\u001b[0m\u001b[0;34m\u001b[0m\u001b[0;34m\u001b[0m\u001b[0m\n\u001b[0m\u001b[1;32m   1443\u001b[0m \u001b[0;34m\u001b[0m\u001b[0m\n\u001b[1;32m   1444\u001b[0m     \u001b[0;32mdef\u001b[0m \u001b[0mclose\u001b[0m\u001b[0;34m(\u001b[0m\u001b[0mself\u001b[0m\u001b[0;34m)\u001b[0m \u001b[0;34m->\u001b[0m \u001b[0;32mNone\u001b[0m\u001b[0;34m:\u001b[0m\u001b[0;34m\u001b[0m\u001b[0;34m\u001b[0m\u001b[0m\n",
            "\u001b[0;32m/usr/local/lib/python3.10/dist-packages/pandas/io/parsers/readers.py\u001b[0m in \u001b[0;36m_make_engine\u001b[0;34m(self, f, engine)\u001b[0m\n\u001b[1;32m   1733\u001b[0m                 \u001b[0;32mif\u001b[0m \u001b[0;34m\"b\"\u001b[0m \u001b[0;32mnot\u001b[0m \u001b[0;32min\u001b[0m \u001b[0mmode\u001b[0m\u001b[0;34m:\u001b[0m\u001b[0;34m\u001b[0m\u001b[0;34m\u001b[0m\u001b[0m\n\u001b[1;32m   1734\u001b[0m                     \u001b[0mmode\u001b[0m \u001b[0;34m+=\u001b[0m \u001b[0;34m\"b\"\u001b[0m\u001b[0;34m\u001b[0m\u001b[0;34m\u001b[0m\u001b[0m\n\u001b[0;32m-> 1735\u001b[0;31m             self.handles = get_handle(\n\u001b[0m\u001b[1;32m   1736\u001b[0m                 \u001b[0mf\u001b[0m\u001b[0;34m,\u001b[0m\u001b[0;34m\u001b[0m\u001b[0;34m\u001b[0m\u001b[0m\n\u001b[1;32m   1737\u001b[0m                 \u001b[0mmode\u001b[0m\u001b[0;34m,\u001b[0m\u001b[0;34m\u001b[0m\u001b[0;34m\u001b[0m\u001b[0m\n",
            "\u001b[0;32m/usr/local/lib/python3.10/dist-packages/pandas/io/common.py\u001b[0m in \u001b[0;36mget_handle\u001b[0;34m(path_or_buf, mode, encoding, compression, memory_map, is_text, errors, storage_options)\u001b[0m\n\u001b[1;32m    854\u001b[0m         \u001b[0;32mif\u001b[0m \u001b[0mioargs\u001b[0m\u001b[0;34m.\u001b[0m\u001b[0mencoding\u001b[0m \u001b[0;32mand\u001b[0m \u001b[0;34m\"b\"\u001b[0m \u001b[0;32mnot\u001b[0m \u001b[0;32min\u001b[0m \u001b[0mioargs\u001b[0m\u001b[0;34m.\u001b[0m\u001b[0mmode\u001b[0m\u001b[0;34m:\u001b[0m\u001b[0;34m\u001b[0m\u001b[0;34m\u001b[0m\u001b[0m\n\u001b[1;32m    855\u001b[0m             \u001b[0;31m# Encoding\u001b[0m\u001b[0;34m\u001b[0m\u001b[0;34m\u001b[0m\u001b[0m\n\u001b[0;32m--> 856\u001b[0;31m             handle = open(\n\u001b[0m\u001b[1;32m    857\u001b[0m                 \u001b[0mhandle\u001b[0m\u001b[0;34m,\u001b[0m\u001b[0;34m\u001b[0m\u001b[0;34m\u001b[0m\u001b[0m\n\u001b[1;32m    858\u001b[0m                 \u001b[0mioargs\u001b[0m\u001b[0;34m.\u001b[0m\u001b[0mmode\u001b[0m\u001b[0;34m,\u001b[0m\u001b[0;34m\u001b[0m\u001b[0;34m\u001b[0m\u001b[0m\n",
            "\u001b[0;31mFileNotFoundError\u001b[0m: [Errno 2] No such file or directory: '/kaggle/input/new-york-housing-market/NY-House-Dataset.csv'"
          ]
        }
      ],
      "source": [
        "#read the data\n",
        "df = pd.read_csv(\"/kaggle/input/new-york-housing-market/NY-House-Dataset.csv\")"
      ]
    },
    {
      "cell_type": "code",
      "execution_count": null,
      "id": "2099c21c",
      "metadata": {
        "execution": {
          "iopub.execute_input": "2024-02-01T16:24:34.934310Z",
          "iopub.status.busy": "2024-02-01T16:24:34.933858Z",
          "iopub.status.idle": "2024-02-01T16:24:34.961750Z",
          "shell.execute_reply": "2024-02-01T16:24:34.960789Z"
        },
        "papermill": {
          "duration": 0.040159,
          "end_time": "2024-02-01T16:24:34.964212",
          "exception": false,
          "start_time": "2024-02-01T16:24:34.924053",
          "status": "completed"
        },
        "tags": [],
        "id": "2099c21c",
        "outputId": "cd9e5c65-8125-4ef7-9c1a-6c1439b625c7"
      },
      "outputs": [
        {
          "data": {
            "text/html": [
              "<div>\n",
              "<style scoped>\n",
              "    .dataframe tbody tr th:only-of-type {\n",
              "        vertical-align: middle;\n",
              "    }\n",
              "\n",
              "    .dataframe tbody tr th {\n",
              "        vertical-align: top;\n",
              "    }\n",
              "\n",
              "    .dataframe thead th {\n",
              "        text-align: right;\n",
              "    }\n",
              "</style>\n",
              "<table border=\"1\" class=\"dataframe\">\n",
              "  <thead>\n",
              "    <tr style=\"text-align: right;\">\n",
              "      <th></th>\n",
              "      <th>BROKERTITLE</th>\n",
              "      <th>TYPE</th>\n",
              "      <th>PRICE</th>\n",
              "      <th>BEDS</th>\n",
              "      <th>BATH</th>\n",
              "      <th>PROPERTYSQFT</th>\n",
              "      <th>ADDRESS</th>\n",
              "      <th>STATE</th>\n",
              "      <th>MAIN_ADDRESS</th>\n",
              "      <th>ADMINISTRATIVE_AREA_LEVEL_2</th>\n",
              "      <th>LOCALITY</th>\n",
              "      <th>SUBLOCALITY</th>\n",
              "      <th>STREET_NAME</th>\n",
              "      <th>LONG_NAME</th>\n",
              "      <th>FORMATTED_ADDRESS</th>\n",
              "      <th>LATITUDE</th>\n",
              "      <th>LONGITUDE</th>\n",
              "    </tr>\n",
              "  </thead>\n",
              "  <tbody>\n",
              "    <tr>\n",
              "      <th>0</th>\n",
              "      <td>Brokered by Douglas Elliman  -111 Fifth Ave</td>\n",
              "      <td>Condo for sale</td>\n",
              "      <td>315000</td>\n",
              "      <td>2</td>\n",
              "      <td>2.000000</td>\n",
              "      <td>1400.0</td>\n",
              "      <td>2 E 55th St Unit 803</td>\n",
              "      <td>New York, NY 10022</td>\n",
              "      <td>2 E 55th St Unit 803New York, NY 10022</td>\n",
              "      <td>New York County</td>\n",
              "      <td>New York</td>\n",
              "      <td>Manhattan</td>\n",
              "      <td>East 55th Street</td>\n",
              "      <td>Regis Residence</td>\n",
              "      <td>Regis Residence, 2 E 55th St #803, New York, N...</td>\n",
              "      <td>40.761255</td>\n",
              "      <td>-73.974483</td>\n",
              "    </tr>\n",
              "    <tr>\n",
              "      <th>1</th>\n",
              "      <td>Brokered by Serhant</td>\n",
              "      <td>Condo for sale</td>\n",
              "      <td>195000000</td>\n",
              "      <td>7</td>\n",
              "      <td>10.000000</td>\n",
              "      <td>17545.0</td>\n",
              "      <td>Central Park Tower Penthouse-217 W 57th New Yo...</td>\n",
              "      <td>New York, NY 10019</td>\n",
              "      <td>Central Park Tower Penthouse-217 W 57th New Yo...</td>\n",
              "      <td>United States</td>\n",
              "      <td>New York</td>\n",
              "      <td>New York County</td>\n",
              "      <td>New York</td>\n",
              "      <td>West 57th Street</td>\n",
              "      <td>217 W 57th St, New York, NY 10019, USA</td>\n",
              "      <td>40.766393</td>\n",
              "      <td>-73.980991</td>\n",
              "    </tr>\n",
              "    <tr>\n",
              "      <th>2</th>\n",
              "      <td>Brokered by Sowae Corp</td>\n",
              "      <td>House for sale</td>\n",
              "      <td>260000</td>\n",
              "      <td>4</td>\n",
              "      <td>2.000000</td>\n",
              "      <td>2015.0</td>\n",
              "      <td>620 Sinclair Ave</td>\n",
              "      <td>Staten Island, NY 10312</td>\n",
              "      <td>620 Sinclair AveStaten Island, NY 10312</td>\n",
              "      <td>United States</td>\n",
              "      <td>New York</td>\n",
              "      <td>Richmond County</td>\n",
              "      <td>Staten Island</td>\n",
              "      <td>Sinclair Avenue</td>\n",
              "      <td>620 Sinclair Ave, Staten Island, NY 10312, USA</td>\n",
              "      <td>40.541805</td>\n",
              "      <td>-74.196109</td>\n",
              "    </tr>\n",
              "    <tr>\n",
              "      <th>3</th>\n",
              "      <td>Brokered by COMPASS</td>\n",
              "      <td>Condo for sale</td>\n",
              "      <td>69000</td>\n",
              "      <td>3</td>\n",
              "      <td>1.000000</td>\n",
              "      <td>445.0</td>\n",
              "      <td>2 E 55th St Unit 908W33</td>\n",
              "      <td>Manhattan, NY 10022</td>\n",
              "      <td>2 E 55th St Unit 908W33Manhattan, NY 10022</td>\n",
              "      <td>United States</td>\n",
              "      <td>New York</td>\n",
              "      <td>New York County</td>\n",
              "      <td>New York</td>\n",
              "      <td>East 55th Street</td>\n",
              "      <td>2 E 55th St, New York, NY 10022, USA</td>\n",
              "      <td>40.761398</td>\n",
              "      <td>-73.974613</td>\n",
              "    </tr>\n",
              "    <tr>\n",
              "      <th>4</th>\n",
              "      <td>Brokered by Sotheby's International Realty - E...</td>\n",
              "      <td>Townhouse for sale</td>\n",
              "      <td>55000000</td>\n",
              "      <td>7</td>\n",
              "      <td>2.373861</td>\n",
              "      <td>14175.0</td>\n",
              "      <td>5 E 64th St</td>\n",
              "      <td>New York, NY 10065</td>\n",
              "      <td>5 E 64th StNew York, NY 10065</td>\n",
              "      <td>United States</td>\n",
              "      <td>New York</td>\n",
              "      <td>New York County</td>\n",
              "      <td>New York</td>\n",
              "      <td>East 64th Street</td>\n",
              "      <td>5 E 64th St, New York, NY 10065, USA</td>\n",
              "      <td>40.767224</td>\n",
              "      <td>-73.969856</td>\n",
              "    </tr>\n",
              "  </tbody>\n",
              "</table>\n",
              "</div>"
            ],
            "text/plain": [
              "                                         BROKERTITLE                TYPE  \\\n",
              "0        Brokered by Douglas Elliman  -111 Fifth Ave      Condo for sale   \n",
              "1                                Brokered by Serhant      Condo for sale   \n",
              "2                             Brokered by Sowae Corp      House for sale   \n",
              "3                                Brokered by COMPASS      Condo for sale   \n",
              "4  Brokered by Sotheby's International Realty - E...  Townhouse for sale   \n",
              "\n",
              "       PRICE  BEDS       BATH  PROPERTYSQFT  \\\n",
              "0     315000     2   2.000000        1400.0   \n",
              "1  195000000     7  10.000000       17545.0   \n",
              "2     260000     4   2.000000        2015.0   \n",
              "3      69000     3   1.000000         445.0   \n",
              "4   55000000     7   2.373861       14175.0   \n",
              "\n",
              "                                             ADDRESS                    STATE  \\\n",
              "0                               2 E 55th St Unit 803       New York, NY 10022   \n",
              "1  Central Park Tower Penthouse-217 W 57th New Yo...       New York, NY 10019   \n",
              "2                                   620 Sinclair Ave  Staten Island, NY 10312   \n",
              "3                            2 E 55th St Unit 908W33      Manhattan, NY 10022   \n",
              "4                                        5 E 64th St       New York, NY 10065   \n",
              "\n",
              "                                        MAIN_ADDRESS  \\\n",
              "0             2 E 55th St Unit 803New York, NY 10022   \n",
              "1  Central Park Tower Penthouse-217 W 57th New Yo...   \n",
              "2            620 Sinclair AveStaten Island, NY 10312   \n",
              "3         2 E 55th St Unit 908W33Manhattan, NY 10022   \n",
              "4                      5 E 64th StNew York, NY 10065   \n",
              "\n",
              "  ADMINISTRATIVE_AREA_LEVEL_2  LOCALITY      SUBLOCALITY       STREET_NAME  \\\n",
              "0             New York County  New York        Manhattan  East 55th Street   \n",
              "1               United States  New York  New York County          New York   \n",
              "2               United States  New York  Richmond County     Staten Island   \n",
              "3               United States  New York  New York County          New York   \n",
              "4               United States  New York  New York County          New York   \n",
              "\n",
              "          LONG_NAME                                  FORMATTED_ADDRESS  \\\n",
              "0   Regis Residence  Regis Residence, 2 E 55th St #803, New York, N...   \n",
              "1  West 57th Street             217 W 57th St, New York, NY 10019, USA   \n",
              "2   Sinclair Avenue     620 Sinclair Ave, Staten Island, NY 10312, USA   \n",
              "3  East 55th Street               2 E 55th St, New York, NY 10022, USA   \n",
              "4  East 64th Street               5 E 64th St, New York, NY 10065, USA   \n",
              "\n",
              "    LATITUDE  LONGITUDE  \n",
              "0  40.761255 -73.974483  \n",
              "1  40.766393 -73.980991  \n",
              "2  40.541805 -74.196109  \n",
              "3  40.761398 -73.974613  \n",
              "4  40.767224 -73.969856  "
            ]
          },
          "execution_count": 4,
          "metadata": {},
          "output_type": "execute_result"
        }
      ],
      "source": [
        "# let's explore the data\n",
        "df.head()"
      ]
    },
    {
      "cell_type": "code",
      "execution_count": null,
      "id": "c3dbc681",
      "metadata": {
        "execution": {
          "iopub.execute_input": "2024-02-01T16:24:34.983626Z",
          "iopub.status.busy": "2024-02-01T16:24:34.982416Z",
          "iopub.status.idle": "2024-02-01T16:24:34.989719Z",
          "shell.execute_reply": "2024-02-01T16:24:34.988657Z"
        },
        "papermill": {
          "duration": 0.019494,
          "end_time": "2024-02-01T16:24:34.992106",
          "exception": false,
          "start_time": "2024-02-01T16:24:34.972612",
          "status": "completed"
        },
        "tags": [],
        "id": "c3dbc681",
        "outputId": "e759094e-d63e-4bc7-f89e-6e72f288601c"
      },
      "outputs": [
        {
          "data": {
            "text/plain": [
              "(4801, 17)"
            ]
          },
          "execution_count": 5,
          "metadata": {},
          "output_type": "execute_result"
        }
      ],
      "source": [
        "#checking shape of datasets\n",
        "df.shape"
      ]
    },
    {
      "cell_type": "code",
      "execution_count": null,
      "id": "5b10c37a",
      "metadata": {
        "execution": {
          "iopub.execute_input": "2024-02-01T16:24:35.011303Z",
          "iopub.status.busy": "2024-02-01T16:24:35.010833Z",
          "iopub.status.idle": "2024-02-01T16:24:35.030983Z",
          "shell.execute_reply": "2024-02-01T16:24:35.029721Z"
        },
        "papermill": {
          "duration": 0.032823,
          "end_time": "2024-02-01T16:24:35.033398",
          "exception": false,
          "start_time": "2024-02-01T16:24:35.000575",
          "status": "completed"
        },
        "tags": [],
        "id": "5b10c37a",
        "outputId": "1add42e8-a40a-44ad-b633-468c9994df74"
      },
      "outputs": [
        {
          "data": {
            "text/plain": [
              "BROKERTITLE                    0\n",
              "TYPE                           0\n",
              "PRICE                          0\n",
              "BEDS                           0\n",
              "BATH                           0\n",
              "PROPERTYSQFT                   0\n",
              "ADDRESS                        0\n",
              "STATE                          0\n",
              "MAIN_ADDRESS                   0\n",
              "ADMINISTRATIVE_AREA_LEVEL_2    0\n",
              "LOCALITY                       0\n",
              "SUBLOCALITY                    0\n",
              "STREET_NAME                    0\n",
              "LONG_NAME                      0\n",
              "FORMATTED_ADDRESS              0\n",
              "LATITUDE                       0\n",
              "LONGITUDE                      0\n",
              "dtype: int64"
            ]
          },
          "execution_count": 6,
          "metadata": {},
          "output_type": "execute_result"
        }
      ],
      "source": [
        "#checking missing / null values\n",
        "df.isnull().sum()"
      ]
    },
    {
      "cell_type": "markdown",
      "id": "1ed3878e",
      "metadata": {
        "papermill": {
          "duration": 0.00835,
          "end_time": "2024-02-01T16:24:35.050621",
          "exception": false,
          "start_time": "2024-02-01T16:24:35.042271",
          "status": "completed"
        },
        "tags": [],
        "id": "1ed3878e"
      },
      "source": [
        "<div style=\"text-align:center; background-color:black; color:yellow; font-size:35px; padding:20px;\">\n",
        "    Exploratory Data Analysis (EDA)\n",
        "</div>\n"
      ]
    },
    {
      "cell_type": "code",
      "execution_count": null,
      "id": "bb6586bc",
      "metadata": {
        "execution": {
          "iopub.execute_input": "2024-02-01T16:24:35.070135Z",
          "iopub.status.busy": "2024-02-01T16:24:35.069639Z",
          "iopub.status.idle": "2024-02-01T16:24:35.108695Z",
          "shell.execute_reply": "2024-02-01T16:24:35.107398Z"
        },
        "papermill": {
          "duration": 0.052104,
          "end_time": "2024-02-01T16:24:35.111414",
          "exception": false,
          "start_time": "2024-02-01T16:24:35.059310",
          "status": "completed"
        },
        "tags": [],
        "id": "bb6586bc",
        "outputId": "0c81632d-f6af-4bee-b510-ec0de72bfe5f"
      },
      "outputs": [
        {
          "data": {
            "text/html": [
              "<div>\n",
              "<style scoped>\n",
              "    .dataframe tbody tr th:only-of-type {\n",
              "        vertical-align: middle;\n",
              "    }\n",
              "\n",
              "    .dataframe tbody tr th {\n",
              "        vertical-align: top;\n",
              "    }\n",
              "\n",
              "    .dataframe thead th {\n",
              "        text-align: right;\n",
              "    }\n",
              "</style>\n",
              "<table border=\"1\" class=\"dataframe\">\n",
              "  <thead>\n",
              "    <tr style=\"text-align: right;\">\n",
              "      <th></th>\n",
              "      <th>count</th>\n",
              "      <th>mean</th>\n",
              "      <th>std</th>\n",
              "      <th>min</th>\n",
              "      <th>25%</th>\n",
              "      <th>50%</th>\n",
              "      <th>75%</th>\n",
              "      <th>max</th>\n",
              "    </tr>\n",
              "  </thead>\n",
              "  <tbody>\n",
              "    <tr>\n",
              "      <th>PRICE</th>\n",
              "      <td>4801.0</td>\n",
              "      <td>2.356940e+06</td>\n",
              "      <td>3.135525e+07</td>\n",
              "      <td>2494.000000</td>\n",
              "      <td>499000.000000</td>\n",
              "      <td>825000.000000</td>\n",
              "      <td>1.495000e+06</td>\n",
              "      <td>2.147484e+09</td>\n",
              "    </tr>\n",
              "    <tr>\n",
              "      <th>BEDS</th>\n",
              "      <td>4801.0</td>\n",
              "      <td>3.356801e+00</td>\n",
              "      <td>2.602315e+00</td>\n",
              "      <td>1.000000</td>\n",
              "      <td>2.000000</td>\n",
              "      <td>3.000000</td>\n",
              "      <td>4.000000e+00</td>\n",
              "      <td>5.000000e+01</td>\n",
              "    </tr>\n",
              "    <tr>\n",
              "      <th>BATH</th>\n",
              "      <td>4801.0</td>\n",
              "      <td>2.373861e+00</td>\n",
              "      <td>1.946962e+00</td>\n",
              "      <td>0.000000</td>\n",
              "      <td>1.000000</td>\n",
              "      <td>2.000000</td>\n",
              "      <td>3.000000e+00</td>\n",
              "      <td>5.000000e+01</td>\n",
              "    </tr>\n",
              "    <tr>\n",
              "      <th>PROPERTYSQFT</th>\n",
              "      <td>4801.0</td>\n",
              "      <td>2.184208e+03</td>\n",
              "      <td>2.377141e+03</td>\n",
              "      <td>230.000000</td>\n",
              "      <td>1200.000000</td>\n",
              "      <td>2184.207862</td>\n",
              "      <td>2.184208e+03</td>\n",
              "      <td>6.553500e+04</td>\n",
              "    </tr>\n",
              "    <tr>\n",
              "      <th>LATITUDE</th>\n",
              "      <td>4801.0</td>\n",
              "      <td>4.071423e+01</td>\n",
              "      <td>8.767557e-02</td>\n",
              "      <td>40.499546</td>\n",
              "      <td>40.639375</td>\n",
              "      <td>40.726749</td>\n",
              "      <td>4.077192e+01</td>\n",
              "      <td>4.091273e+01</td>\n",
              "    </tr>\n",
              "    <tr>\n",
              "      <th>LONGITUDE</th>\n",
              "      <td>4801.0</td>\n",
              "      <td>-7.394160e+01</td>\n",
              "      <td>1.010825e-01</td>\n",
              "      <td>-74.253033</td>\n",
              "      <td>-73.987143</td>\n",
              "      <td>-73.949189</td>\n",
              "      <td>-7.387064e+01</td>\n",
              "      <td>-7.370245e+01</td>\n",
              "    </tr>\n",
              "  </tbody>\n",
              "</table>\n",
              "</div>"
            ],
            "text/plain": [
              "               count          mean           std          min            25%  \\\n",
              "PRICE         4801.0  2.356940e+06  3.135525e+07  2494.000000  499000.000000   \n",
              "BEDS          4801.0  3.356801e+00  2.602315e+00     1.000000       2.000000   \n",
              "BATH          4801.0  2.373861e+00  1.946962e+00     0.000000       1.000000   \n",
              "PROPERTYSQFT  4801.0  2.184208e+03  2.377141e+03   230.000000    1200.000000   \n",
              "LATITUDE      4801.0  4.071423e+01  8.767557e-02    40.499546      40.639375   \n",
              "LONGITUDE     4801.0 -7.394160e+01  1.010825e-01   -74.253033     -73.987143   \n",
              "\n",
              "                        50%           75%           max  \n",
              "PRICE         825000.000000  1.495000e+06  2.147484e+09  \n",
              "BEDS               3.000000  4.000000e+00  5.000000e+01  \n",
              "BATH               2.000000  3.000000e+00  5.000000e+01  \n",
              "PROPERTYSQFT    2184.207862  2.184208e+03  6.553500e+04  \n",
              "LATITUDE          40.726749  4.077192e+01  4.091273e+01  \n",
              "LONGITUDE        -73.949189 -7.387064e+01 -7.370245e+01  "
            ]
          },
          "execution_count": 7,
          "metadata": {},
          "output_type": "execute_result"
        }
      ],
      "source": [
        "\n",
        "# Summary statistics for numeric columns\n",
        "df.describe().T\n"
      ]
    },
    {
      "cell_type": "code",
      "execution_count": null,
      "id": "a4620a83",
      "metadata": {
        "execution": {
          "iopub.execute_input": "2024-02-01T16:24:35.133543Z",
          "iopub.status.busy": "2024-02-01T16:24:35.132687Z",
          "iopub.status.idle": "2024-02-01T16:24:35.566926Z",
          "shell.execute_reply": "2024-02-01T16:24:35.565804Z"
        },
        "papermill": {
          "duration": 0.449311,
          "end_time": "2024-02-01T16:24:35.570061",
          "exception": false,
          "start_time": "2024-02-01T16:24:35.120750",
          "status": "completed"
        },
        "tags": [],
        "id": "a4620a83",
        "outputId": "7853bb1e-9aa1-42d2-e813-532b24c7a9ee"
      },
      "outputs": [
        {
          "data": {
            "image/png": "[encoded data removed]",
            "text/plain": [
              "<Figure size 1000x600 with 1 Axes>"
            ]
          },
          "metadata": {},
          "output_type": "display_data"
        }
      ],
      "source": [
        "# Distribution of house prices (((((((((By ploting Graph of Price we believe that there is huge outlier present in Price )))))))))\n",
        "plt.figure(figsize=(10, 6))\n",
        "sns.histplot(df['PRICE'], bins=30, kde=True)\n",
        "plt.title('Distribution of House Prices')\n",
        "plt.xlabel('Price')\n",
        "plt.show()"
      ]
    },
    {
      "cell_type": "markdown",
      "id": "b7d8c78d",
      "metadata": {
        "papermill": {
          "duration": 0.00968,
          "end_time": "2024-02-01T16:24:35.589283",
          "exception": false,
          "start_time": "2024-02-01T16:24:35.579603",
          "status": "completed"
        },
        "tags": [],
        "id": "b7d8c78d"
      },
      "source": [
        "<div style=\"text-align:center; background-color:black; color:cyan; font-size:25px; padding:20px;\">\n",
        "    Exploratory Data Analysis (EDA)\n",
        "</div>\n"
      ]
    },
    {
      "cell_type": "code",
      "execution_count": null,
      "id": "f5cdb46d",
      "metadata": {
        "execution": {
          "iopub.execute_input": "2024-02-01T16:24:35.610353Z",
          "iopub.status.busy": "2024-02-01T16:24:35.609800Z",
          "iopub.status.idle": "2024-02-01T16:24:35.622169Z",
          "shell.execute_reply": "2024-02-01T16:24:35.620877Z"
        },
        "papermill": {
          "duration": 0.026047,
          "end_time": "2024-02-01T16:24:35.624757",
          "exception": false,
          "start_time": "2024-02-01T16:24:35.598710",
          "status": "completed"
        },
        "tags": [],
        "id": "f5cdb46d",
        "outputId": "5a7baab8-d437-49ee-ab05-b04922ed2834"
      },
      "outputs": [
        {
          "name": "stdout",
          "output_type": "stream",
          "text": [
            "Outliers in the PRICE column:\n",
            "1       195000000\n",
            "304    2147483647\n",
            "Name: PRICE, dtype: int64\n"
          ]
        }
      ],
      "source": [
        "\n",
        "# Visualize the distribution of house prices\n",
        "from scipy import stats\n",
        "\n",
        "# Calculate z-scores for the 'PRICE' column\n",
        "z_scores = stats.zscore(df['PRICE'])\n",
        "\n",
        "# Define a threshold for z-scores (e.g., 3)\n",
        "threshold = 3\n",
        "\n",
        "# Identify outliers based on the threshold\n",
        "outliers = df['PRICE'][np.abs(z_scores) > threshold]\n",
        "\n",
        "# Display the outliers\n",
        "print(\"Outliers in the PRICE column:\")\n",
        "print(outliers)\n"
      ]
    },
    {
      "cell_type": "code",
      "execution_count": null,
      "id": "c525b1bb",
      "metadata": {
        "execution": {
          "iopub.execute_input": "2024-02-01T16:24:35.646782Z",
          "iopub.status.busy": "2024-02-01T16:24:35.646312Z",
          "iopub.status.idle": "2024-02-01T16:24:35.658419Z",
          "shell.execute_reply": "2024-02-01T16:24:35.656955Z"
        },
        "papermill": {
          "duration": 0.026236,
          "end_time": "2024-02-01T16:24:35.660892",
          "exception": false,
          "start_time": "2024-02-01T16:24:35.634656",
          "status": "completed"
        },
        "tags": [],
        "id": "c525b1bb",
        "outputId": "ae069444-81f5-47b0-8440-c530219b9a1f"
      },
      "outputs": [
        {
          "name": "stdout",
          "output_type": "stream",
          "text": [
            "Original DataFrame shape: (4801, 17)\n",
            "DataFrame shape after removing outliers: (4799, 17)\n"
          ]
        }
      ],
      "source": [
        "# Calculate z-scores for the 'PRICE' column\n",
        "z_scores = stats.zscore(df['PRICE'])\n",
        "\n",
        "# Define a threshold for z-scores (e.g., 3)\n",
        "threshold = 3\n",
        "\n",
        "# Identify and remove outliers based on the threshold\n",
        "df_no_outliers = df[np.abs(z_scores) <= threshold]\n",
        "\n",
        "# Display the shape of the original and modified DataFrames\n",
        "print(\"Original DataFrame shape:\", df.shape)\n",
        "print(\"DataFrame shape after removing outliers:\", df_no_outliers.shape)\n"
      ]
    },
    {
      "cell_type": "code",
      "execution_count": null,
      "id": "66cdd431",
      "metadata": {
        "execution": {
          "iopub.execute_input": "2024-02-01T16:24:35.682250Z",
          "iopub.status.busy": "2024-02-01T16:24:35.681738Z",
          "iopub.status.idle": "2024-02-01T16:24:35.709428Z",
          "shell.execute_reply": "2024-02-01T16:24:35.708519Z"
        },
        "papermill": {
          "duration": 0.041595,
          "end_time": "2024-02-01T16:24:35.712126",
          "exception": false,
          "start_time": "2024-02-01T16:24:35.670531",
          "status": "completed"
        },
        "tags": [],
        "id": "66cdd431",
        "outputId": "fd625db6-9572-4513-80e7-f23dc63ef830"
      },
      "outputs": [
        {
          "data": {
            "text/html": [
              "<div>\n",
              "<style scoped>\n",
              "    .dataframe tbody tr th:only-of-type {\n",
              "        vertical-align: middle;\n",
              "    }\n",
              "\n",
              "    .dataframe tbody tr th {\n",
              "        vertical-align: top;\n",
              "    }\n",
              "\n",
              "    .dataframe thead th {\n",
              "        text-align: right;\n",
              "    }\n",
              "</style>\n",
              "<table border=\"1\" class=\"dataframe\">\n",
              "  <thead>\n",
              "    <tr style=\"text-align: right;\">\n",
              "      <th></th>\n",
              "      <th>BROKERTITLE</th>\n",
              "      <th>TYPE</th>\n",
              "      <th>PRICE</th>\n",
              "      <th>BEDS</th>\n",
              "      <th>BATH</th>\n",
              "      <th>PROPERTYSQFT</th>\n",
              "      <th>ADDRESS</th>\n",
              "      <th>STATE</th>\n",
              "      <th>MAIN_ADDRESS</th>\n",
              "      <th>ADMINISTRATIVE_AREA_LEVEL_2</th>\n",
              "      <th>LOCALITY</th>\n",
              "      <th>SUBLOCALITY</th>\n",
              "      <th>STREET_NAME</th>\n",
              "      <th>LONG_NAME</th>\n",
              "      <th>FORMATTED_ADDRESS</th>\n",
              "      <th>LATITUDE</th>\n",
              "      <th>LONGITUDE</th>\n",
              "    </tr>\n",
              "  </thead>\n",
              "  <tbody>\n",
              "    <tr>\n",
              "      <th>0</th>\n",
              "      <td>Brokered by Douglas Elliman  -111 Fifth Ave</td>\n",
              "      <td>Condo for sale</td>\n",
              "      <td>315000</td>\n",
              "      <td>2</td>\n",
              "      <td>2.000000</td>\n",
              "      <td>1400.000000</td>\n",
              "      <td>2 E 55th St Unit 803</td>\n",
              "      <td>New York, NY 10022</td>\n",
              "      <td>2 E 55th St Unit 803New York, NY 10022</td>\n",
              "      <td>New York County</td>\n",
              "      <td>New York</td>\n",
              "      <td>Manhattan</td>\n",
              "      <td>East 55th Street</td>\n",
              "      <td>Regis Residence</td>\n",
              "      <td>Regis Residence, 2 E 55th St #803, New York, N...</td>\n",
              "      <td>40.761255</td>\n",
              "      <td>-73.974483</td>\n",
              "    </tr>\n",
              "    <tr>\n",
              "      <th>2</th>\n",
              "      <td>Brokered by Sowae Corp</td>\n",
              "      <td>House for sale</td>\n",
              "      <td>260000</td>\n",
              "      <td>4</td>\n",
              "      <td>2.000000</td>\n",
              "      <td>2015.000000</td>\n",
              "      <td>620 Sinclair Ave</td>\n",
              "      <td>Staten Island, NY 10312</td>\n",
              "      <td>620 Sinclair AveStaten Island, NY 10312</td>\n",
              "      <td>United States</td>\n",
              "      <td>New York</td>\n",
              "      <td>Richmond County</td>\n",
              "      <td>Staten Island</td>\n",
              "      <td>Sinclair Avenue</td>\n",
              "      <td>620 Sinclair Ave, Staten Island, NY 10312, USA</td>\n",
              "      <td>40.541805</td>\n",
              "      <td>-74.196109</td>\n",
              "    </tr>\n",
              "    <tr>\n",
              "      <th>3</th>\n",
              "      <td>Brokered by COMPASS</td>\n",
              "      <td>Condo for sale</td>\n",
              "      <td>69000</td>\n",
              "      <td>3</td>\n",
              "      <td>1.000000</td>\n",
              "      <td>445.000000</td>\n",
              "      <td>2 E 55th St Unit 908W33</td>\n",
              "      <td>Manhattan, NY 10022</td>\n",
              "      <td>2 E 55th St Unit 908W33Manhattan, NY 10022</td>\n",
              "      <td>United States</td>\n",
              "      <td>New York</td>\n",
              "      <td>New York County</td>\n",
              "      <td>New York</td>\n",
              "      <td>East 55th Street</td>\n",
              "      <td>2 E 55th St, New York, NY 10022, USA</td>\n",
              "      <td>40.761398</td>\n",
              "      <td>-73.974613</td>\n",
              "    </tr>\n",
              "    <tr>\n",
              "      <th>4</th>\n",
              "      <td>Brokered by Sotheby's International Realty - E...</td>\n",
              "      <td>Townhouse for sale</td>\n",
              "      <td>55000000</td>\n",
              "      <td>7</td>\n",
              "      <td>2.373861</td>\n",
              "      <td>14175.000000</td>\n",
              "      <td>5 E 64th St</td>\n",
              "      <td>New York, NY 10065</td>\n",
              "      <td>5 E 64th StNew York, NY 10065</td>\n",
              "      <td>United States</td>\n",
              "      <td>New York</td>\n",
              "      <td>New York County</td>\n",
              "      <td>New York</td>\n",
              "      <td>East 64th Street</td>\n",
              "      <td>5 E 64th St, New York, NY 10065, USA</td>\n",
              "      <td>40.767224</td>\n",
              "      <td>-73.969856</td>\n",
              "    </tr>\n",
              "    <tr>\n",
              "      <th>5</th>\n",
              "      <td>Brokered by Sowae Corp</td>\n",
              "      <td>House for sale</td>\n",
              "      <td>690000</td>\n",
              "      <td>5</td>\n",
              "      <td>2.000000</td>\n",
              "      <td>4004.000000</td>\n",
              "      <td>584 Park Pl</td>\n",
              "      <td>Brooklyn, NY 11238</td>\n",
              "      <td>584 Park PlBrooklyn, NY 11238</td>\n",
              "      <td>United States</td>\n",
              "      <td>New York</td>\n",
              "      <td>Kings County</td>\n",
              "      <td>Brooklyn</td>\n",
              "      <td>Park Place</td>\n",
              "      <td>584 Park Pl, Brooklyn, NY 11238, USA</td>\n",
              "      <td>40.674363</td>\n",
              "      <td>-73.958725</td>\n",
              "    </tr>\n",
              "    <tr>\n",
              "      <th>...</th>\n",
              "      <td>...</td>\n",
              "      <td>...</td>\n",
              "      <td>...</td>\n",
              "      <td>...</td>\n",
              "      <td>...</td>\n",
              "      <td>...</td>\n",
              "      <td>...</td>\n",
              "      <td>...</td>\n",
              "      <td>...</td>\n",
              "      <td>...</td>\n",
              "      <td>...</td>\n",
              "      <td>...</td>\n",
              "      <td>...</td>\n",
              "      <td>...</td>\n",
              "      <td>...</td>\n",
              "      <td>...</td>\n",
              "      <td>...</td>\n",
              "    </tr>\n",
              "    <tr>\n",
              "      <th>4796</th>\n",
              "      <td>Brokered by COMPASS</td>\n",
              "      <td>Co-op for sale</td>\n",
              "      <td>599000</td>\n",
              "      <td>1</td>\n",
              "      <td>1.000000</td>\n",
              "      <td>2184.207862</td>\n",
              "      <td>222 E 80th St Apt 3A</td>\n",
              "      <td>Manhattan, NY 10075</td>\n",
              "      <td>222 E 80th St Apt 3AManhattan, NY 10075</td>\n",
              "      <td>New York</td>\n",
              "      <td>New York County</td>\n",
              "      <td>New York</td>\n",
              "      <td>Manhattan</td>\n",
              "      <td>222</td>\n",
              "      <td>222 E 80th St #3a, New York, NY 10075, USA</td>\n",
              "      <td>40.774350</td>\n",
              "      <td>-73.955879</td>\n",
              "    </tr>\n",
              "    <tr>\n",
              "      <th>4797</th>\n",
              "      <td>Brokered by Mjr Real Estate Llc</td>\n",
              "      <td>Co-op for sale</td>\n",
              "      <td>245000</td>\n",
              "      <td>1</td>\n",
              "      <td>1.000000</td>\n",
              "      <td>2184.207862</td>\n",
              "      <td>97-40 62 Dr Unit Lg</td>\n",
              "      <td>Rego Park, NY 11374</td>\n",
              "      <td>97-40 62 Dr Unit LgRego Park, NY 11374</td>\n",
              "      <td>United States</td>\n",
              "      <td>New York</td>\n",
              "      <td>Queens County</td>\n",
              "      <td>Queens</td>\n",
              "      <td>62nd Drive</td>\n",
              "      <td>97-40 62nd Dr, Rego Park, NY 11374, USA</td>\n",
              "      <td>40.732538</td>\n",
              "      <td>-73.860152</td>\n",
              "    </tr>\n",
              "    <tr>\n",
              "      <th>4798</th>\n",
              "      <td>Brokered by Douglas Elliman - 575 Madison Ave</td>\n",
              "      <td>Co-op for sale</td>\n",
              "      <td>1275000</td>\n",
              "      <td>1</td>\n",
              "      <td>1.000000</td>\n",
              "      <td>2184.207862</td>\n",
              "      <td>427 W 21st St Unit Garden</td>\n",
              "      <td>New York, NY 10011</td>\n",
              "      <td>427 W 21st St Unit GardenNew York, NY 10011</td>\n",
              "      <td>United States</td>\n",
              "      <td>New York</td>\n",
              "      <td>New York County</td>\n",
              "      <td>New York</td>\n",
              "      <td>West 21st Street</td>\n",
              "      <td>427 W 21st St, New York, NY 10011, USA</td>\n",
              "      <td>40.745882</td>\n",
              "      <td>-74.003398</td>\n",
              "    </tr>\n",
              "    <tr>\n",
              "      <th>4799</th>\n",
              "      <td>Brokered by E Realty International Corp</td>\n",
              "      <td>Condo for sale</td>\n",
              "      <td>598125</td>\n",
              "      <td>2</td>\n",
              "      <td>1.000000</td>\n",
              "      <td>655.000000</td>\n",
              "      <td>91-23 Corona Ave Unit 4G</td>\n",
              "      <td>Elmhurst, NY 11373</td>\n",
              "      <td>91-23 Corona Ave Unit 4GElmhurst, NY 11373</td>\n",
              "      <td>New York</td>\n",
              "      <td>Queens County</td>\n",
              "      <td>Queens</td>\n",
              "      <td>Flushing</td>\n",
              "      <td>91-23</td>\n",
              "      <td>91-23 Corona Ave. #4b, Flushing, NY 11373, USA</td>\n",
              "      <td>40.742770</td>\n",
              "      <td>-73.872752</td>\n",
              "    </tr>\n",
              "    <tr>\n",
              "      <th>4800</th>\n",
              "      <td>Brokered by Nyc Realty Brokers Llc</td>\n",
              "      <td>Co-op for sale</td>\n",
              "      <td>349000</td>\n",
              "      <td>1</td>\n",
              "      <td>1.000000</td>\n",
              "      <td>750.000000</td>\n",
              "      <td>460 Neptune Ave Apt 14O</td>\n",
              "      <td>Brooklyn, NY 11224</td>\n",
              "      <td>460 Neptune Ave Apt 14OBrooklyn, NY 11224</td>\n",
              "      <td>New York</td>\n",
              "      <td>Kings County</td>\n",
              "      <td>Brooklyn</td>\n",
              "      <td>Coney Island</td>\n",
              "      <td>460</td>\n",
              "      <td>460 Neptune Ave #14a, Brooklyn, NY 11224, USA</td>\n",
              "      <td>40.579147</td>\n",
              "      <td>-73.970949</td>\n",
              "    </tr>\n",
              "  </tbody>\n",
              "</table>\n",
              "<p>4799 rows × 17 columns</p>\n",
              "</div>"
            ],
            "text/plain": [
              "                                            BROKERTITLE                TYPE  \\\n",
              "0           Brokered by Douglas Elliman  -111 Fifth Ave      Condo for sale   \n",
              "2                                Brokered by Sowae Corp      House for sale   \n",
              "3                                   Brokered by COMPASS      Condo for sale   \n",
              "4     Brokered by Sotheby's International Realty - E...  Townhouse for sale   \n",
              "5                                Brokered by Sowae Corp      House for sale   \n",
              "...                                                 ...                 ...   \n",
              "4796                                Brokered by COMPASS      Co-op for sale   \n",
              "4797                    Brokered by Mjr Real Estate Llc      Co-op for sale   \n",
              "4798      Brokered by Douglas Elliman - 575 Madison Ave      Co-op for sale   \n",
              "4799            Brokered by E Realty International Corp      Condo for sale   \n",
              "4800                 Brokered by Nyc Realty Brokers Llc      Co-op for sale   \n",
              "\n",
              "         PRICE  BEDS      BATH  PROPERTYSQFT                    ADDRESS  \\\n",
              "0       315000     2  2.000000   1400.000000       2 E 55th St Unit 803   \n",
              "2       260000     4  2.000000   2015.000000           620 Sinclair Ave   \n",
              "3        69000     3  1.000000    445.000000    2 E 55th St Unit 908W33   \n",
              "4     55000000     7  2.373861  14175.000000                5 E 64th St   \n",
              "5       690000     5  2.000000   4004.000000                584 Park Pl   \n",
              "...        ...   ...       ...           ...                        ...   \n",
              "4796    599000     1  1.000000   2184.207862       222 E 80th St Apt 3A   \n",
              "4797    245000     1  1.000000   2184.207862        97-40 62 Dr Unit Lg   \n",
              "4798   1275000     1  1.000000   2184.207862  427 W 21st St Unit Garden   \n",
              "4799    598125     2  1.000000    655.000000   91-23 Corona Ave Unit 4G   \n",
              "4800    349000     1  1.000000    750.000000    460 Neptune Ave Apt 14O   \n",
              "\n",
              "                        STATE                                 MAIN_ADDRESS  \\\n",
              "0          New York, NY 10022       2 E 55th St Unit 803New York, NY 10022   \n",
              "2     Staten Island, NY 10312      620 Sinclair AveStaten Island, NY 10312   \n",
              "3         Manhattan, NY 10022   2 E 55th St Unit 908W33Manhattan, NY 10022   \n",
              "4          New York, NY 10065                5 E 64th StNew York, NY 10065   \n",
              "5          Brooklyn, NY 11238                584 Park PlBrooklyn, NY 11238   \n",
              "...                       ...                                          ...   \n",
              "4796      Manhattan, NY 10075      222 E 80th St Apt 3AManhattan, NY 10075   \n",
              "4797      Rego Park, NY 11374       97-40 62 Dr Unit LgRego Park, NY 11374   \n",
              "4798       New York, NY 10011  427 W 21st St Unit GardenNew York, NY 10011   \n",
              "4799       Elmhurst, NY 11373   91-23 Corona Ave Unit 4GElmhurst, NY 11373   \n",
              "4800       Brooklyn, NY 11224    460 Neptune Ave Apt 14OBrooklyn, NY 11224   \n",
              "\n",
              "     ADMINISTRATIVE_AREA_LEVEL_2         LOCALITY      SUBLOCALITY  \\\n",
              "0                New York County         New York        Manhattan   \n",
              "2                  United States         New York  Richmond County   \n",
              "3                  United States         New York  New York County   \n",
              "4                  United States         New York  New York County   \n",
              "5                  United States         New York     Kings County   \n",
              "...                          ...              ...              ...   \n",
              "4796                    New York  New York County         New York   \n",
              "4797               United States         New York    Queens County   \n",
              "4798               United States         New York  New York County   \n",
              "4799                    New York    Queens County           Queens   \n",
              "4800                    New York     Kings County         Brooklyn   \n",
              "\n",
              "           STREET_NAME         LONG_NAME  \\\n",
              "0     East 55th Street   Regis Residence   \n",
              "2        Staten Island   Sinclair Avenue   \n",
              "3             New York  East 55th Street   \n",
              "4             New York  East 64th Street   \n",
              "5             Brooklyn        Park Place   \n",
              "...                ...               ...   \n",
              "4796         Manhattan               222   \n",
              "4797            Queens        62nd Drive   \n",
              "4798          New York  West 21st Street   \n",
              "4799          Flushing             91-23   \n",
              "4800      Coney Island               460   \n",
              "\n",
              "                                      FORMATTED_ADDRESS   LATITUDE  LONGITUDE  \n",
              "0     Regis Residence, 2 E 55th St #803, New York, N...  40.761255 -73.974483  \n",
              "2        620 Sinclair Ave, Staten Island, NY 10312, USA  40.541805 -74.196109  \n",
              "3                  2 E 55th St, New York, NY 10022, USA  40.761398 -73.974613  \n",
              "4                  5 E 64th St, New York, NY 10065, USA  40.767224 -73.969856  \n",
              "5                  584 Park Pl, Brooklyn, NY 11238, USA  40.674363 -73.958725  \n",
              "...                                                 ...        ...        ...  \n",
              "4796         222 E 80th St #3a, New York, NY 10075, USA  40.774350 -73.955879  \n",
              "4797            97-40 62nd Dr, Rego Park, NY 11374, USA  40.732538 -73.860152  \n",
              "4798             427 W 21st St, New York, NY 10011, USA  40.745882 -74.003398  \n",
              "4799     91-23 Corona Ave. #4b, Flushing, NY 11373, USA  40.742770 -73.872752  \n",
              "4800      460 Neptune Ave #14a, Brooklyn, NY 11224, USA  40.579147 -73.970949  \n",
              "\n",
              "[4799 rows x 17 columns]"
            ]
          },
          "execution_count": 11,
          "metadata": {},
          "output_type": "execute_result"
        }
      ],
      "source": [
        "df_no_outliers"
      ]
    },
    {
      "cell_type": "code",
      "execution_count": null,
      "id": "f89d1be2",
      "metadata": {
        "execution": {
          "iopub.execute_input": "2024-02-01T16:24:35.738803Z",
          "iopub.status.busy": "2024-02-01T16:24:35.738344Z",
          "iopub.status.idle": "2024-02-01T16:24:35.918571Z",
          "shell.execute_reply": "2024-02-01T16:24:35.917296Z"
        },
        "papermill": {
          "duration": 0.198585,
          "end_time": "2024-02-01T16:24:35.921459",
          "exception": false,
          "start_time": "2024-02-01T16:24:35.722874",
          "status": "completed"
        },
        "tags": [],
        "id": "f89d1be2",
        "outputId": "c010cb6e-45ae-4ee0-c3bb-4c8dcba92046"
      },
      "outputs": [
        {
          "data": {
            "image/png": "[encoded data removed]",
            "text/plain": [
              "<Figure size 1000x600 with 1 Axes>"
            ]
          },
          "metadata": {},
          "output_type": "display_data"
        }
      ],
      "source": [
        "# 'df_no_outliers' is the DataFrame without outliers ((((((NOW there is less noise))))))\n",
        "plt.figure(figsize=(10, 6))\n",
        "sns.boxplot(x=df_no_outliers['PRICE'])\n",
        "plt.title('Boxplot of House Prices (No Outliers)')\n",
        "plt.xlabel('Price')\n",
        "plt.show()"
      ]
    },
    {
      "cell_type": "code",
      "execution_count": null,
      "id": "28a89f51",
      "metadata": {
        "execution": {
          "iopub.execute_input": "2024-02-01T16:24:35.946026Z",
          "iopub.status.busy": "2024-02-01T16:24:35.945568Z",
          "iopub.status.idle": "2024-02-01T16:24:35.951907Z",
          "shell.execute_reply": "2024-02-01T16:24:35.950719Z"
        },
        "papermill": {
          "duration": 0.021703,
          "end_time": "2024-02-01T16:24:35.954396",
          "exception": false,
          "start_time": "2024-02-01T16:24:35.932693",
          "status": "completed"
        },
        "tags": [],
        "id": "28a89f51"
      },
      "outputs": [],
      "source": [
        "#'df_no_outliers' is the DataFrame without outliers\n",
        "df_new = df_no_outliers.copy()\n"
      ]
    },
    {
      "cell_type": "markdown",
      "id": "5410f18b",
      "metadata": {
        "execution": {
          "iopub.execute_input": "2024-02-01T16:17:42.491390Z",
          "iopub.status.busy": "2024-02-01T16:17:42.490929Z",
          "iopub.status.idle": "2024-02-01T16:17:42.498481Z",
          "shell.execute_reply": "2024-02-01T16:17:42.496980Z",
          "shell.execute_reply.started": "2024-02-01T16:17:42.491359Z"
        },
        "papermill": {
          "duration": 0.010941,
          "end_time": "2024-02-01T16:24:35.976314",
          "exception": false,
          "start_time": "2024-02-01T16:24:35.965373",
          "status": "completed"
        },
        "tags": [],
        "id": "5410f18b"
      },
      "source": [
        "<div style=\"text-align:center; background-color:royalblue; color:wheat; font-size:25px; padding:20px;\">\n",
        "    <strong>Analysis 1: Price Distribution</strong>\n",
        "</div>\n"
      ]
    },
    {
      "cell_type": "markdown",
      "id": "1f2abe9c",
      "metadata": {
        "papermill": {
          "duration": 0.010323,
          "end_time": "2024-02-01T16:24:35.997984",
          "exception": false,
          "start_time": "2024-02-01T16:24:35.987661",
          "status": "completed"
        },
        "tags": [],
        "id": "1f2abe9c"
      },
      "source": [
        "### Visualize the distribution of house prices to understand the overall price range."
      ]
    },
    {
      "cell_type": "code",
      "execution_count": null,
      "id": "4f53daf1",
      "metadata": {
        "execution": {
          "iopub.execute_input": "2024-02-01T16:24:36.021974Z",
          "iopub.status.busy": "2024-02-01T16:24:36.021515Z",
          "iopub.status.idle": "2024-02-01T16:24:36.450812Z",
          "shell.execute_reply": "2024-02-01T16:24:36.449589Z"
        },
        "papermill": {
          "duration": 0.445009,
          "end_time": "2024-02-01T16:24:36.453959",
          "exception": false,
          "start_time": "2024-02-01T16:24:36.008950",
          "status": "completed"
        },
        "tags": [],
        "id": "4f53daf1",
        "outputId": "bb4eb02b-2453-4fd1-da6a-aa72086dfaaa"
      },
      "outputs": [
        {
          "data": {
            "image/png": "[encoded data removed]",
            "text/plain": [
              "<Figure size 1000x600 with 1 Axes>"
            ]
          },
          "metadata": {},
          "output_type": "display_data"
        }
      ],
      "source": [
        "plt.figure(figsize=(10, 6))\n",
        "sns.histplot(df_new['PRICE'], bins=30, kde=True, color='skyblue')\n",
        "plt.title('Distribution of House Prices')\n",
        "plt.xlabel('Price')\n",
        "plt.ylabel('Frequency')\n",
        "plt.show()"
      ]
    },
    {
      "cell_type": "markdown",
      "id": "6676d77f",
      "metadata": {
        "papermill": {
          "duration": 0.011032,
          "end_time": "2024-02-01T16:24:36.476605",
          "exception": false,
          "start_time": "2024-02-01T16:24:36.465573",
          "status": "completed"
        },
        "tags": [],
        "id": "6676d77f"
      },
      "source": [
        "<div style=\"text-align:center; background-color:royalblue; color:wheat; font-size:25px; padding:20px;\">\n",
        "    <strong>Analysis 2: Property Types</strong>\n",
        "</div>\n"
      ]
    },
    {
      "cell_type": "markdown",
      "id": "7a3fa1bc",
      "metadata": {
        "papermill": {
          "duration": 0.011017,
          "end_time": "2024-02-01T16:24:36.499221",
          "exception": false,
          "start_time": "2024-02-01T16:24:36.488204",
          "status": "completed"
        },
        "tags": [],
        "id": "7a3fa1bc"
      },
      "source": [
        "### Explore the distribution of different property types."
      ]
    },
    {
      "cell_type": "code",
      "execution_count": null,
      "id": "c4da9eb3",
      "metadata": {
        "execution": {
          "iopub.execute_input": "2024-02-01T16:24:36.524787Z",
          "iopub.status.busy": "2024-02-01T16:24:36.523449Z",
          "iopub.status.idle": "2024-02-01T16:24:36.873776Z",
          "shell.execute_reply": "2024-02-01T16:24:36.872810Z"
        },
        "papermill": {
          "duration": 0.367078,
          "end_time": "2024-02-01T16:24:36.877606",
          "exception": false,
          "start_time": "2024-02-01T16:24:36.510528",
          "status": "completed"
        },
        "tags": [],
        "id": "c4da9eb3",
        "outputId": "238bb663-d9c3-449c-86f0-99e1dd42b624"
      },
      "outputs": [
        {
          "data": {
            "image/png": "[encoded data removed]",
            "text/plain": [
              "<Figure size 1000x600 with 1 Axes>"
            ]
          },
          "metadata": {},
          "output_type": "display_data"
        }
      ],
      "source": [
        "plt.figure(figsize=(10, 6))\n",
        "sns.countplot(x='TYPE', data=df_new, palette='viridis')\n",
        "plt.title('Distribution of Property Types')\n",
        "plt.xlabel('Property Type')\n",
        "plt.ylabel('Count')\n",
        "plt.xticks(rotation=45, ha='right')\n",
        "plt.show()\n"
      ]
    },
    {
      "cell_type": "code",
      "execution_count": null,
      "id": "2051717f",
      "metadata": {
        "papermill": {
          "duration": 0.01265,
          "end_time": "2024-02-01T16:24:36.904033",
          "exception": false,
          "start_time": "2024-02-01T16:24:36.891383",
          "status": "completed"
        },
        "tags": [],
        "id": "2051717f"
      },
      "outputs": [],
      "source": []
    }
  ],
  "metadata": {
    "kaggle": {
      "accelerator": "none",
      "dataSources": [
        {
          "datasetId": 4269029,
          "sourceId": 7351086,
          "sourceType": "datasetVersion"
        }
      ],
      "dockerImageVersionId": 30646,
      "isGpuEnabled": false,
      "isInternetEnabled": true,
      "language": "python",
      "sourceType": "notebook"
    },
    "kernelspec": {
      "display_name": "Python 3",
      "language": "python",
      "name": "python3"
    },
    "language_info": {
      "codemirror_mode": {
        "name": "ipython",
        "version": 3
      },
      "file_extension": ".py",
      "mimetype": "text/x-python",
      "name": "python",
      "nbconvert_exporter": "python",
      "pygments_lexer": "ipython3",
      "version": "3.10.13"
    },
    "papermill": {
      "default_parameters": {},
      "duration": 9.446398,
      "end_time": "2024-02-01T16:24:37.840483",
      "environment_variables": {},
      "exception": null,
      "input_path": "__notebook__.ipynb",
      "output_path": "__notebook__.ipynb",
      "parameters": {},
      "start_time": "2024-02-01T16:24:28.394085",
      "version": "2.5.0"
    },
    "colab": {
      "provenance": [],
      "include_colab_link": true
    }
  },
  "nbformat": 4,
  "nbformat_minor": 5
}