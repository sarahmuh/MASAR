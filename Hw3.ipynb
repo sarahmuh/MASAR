{
  "nbformat": 4,
  "nbformat_minor": 0,
  "metadata": {
    "colab": {
      "provenance": [],
      "authorship_tag": "ABX9TyO8Pf2J8rmEkZVS0JPSmygx",
      "include_colab_link": true
    },
    "kernelspec": {
      "name": "python3",
      "display_name": "Python 3"
    },
    "language_info": {
      "name": "python"
    }
  },
  "cells": [
    {
      "cell_type": "markdown",
      "metadata": {
        "id": "view-in-github",
        "colab_type": "text"
      },
      "source": [
        "<a href=\"https://colab.research.google.com/github/sarahmuh/MASAR/blob/main/Hw3.ipynb\" target=\"_parent\"><img src=\"https://colab.research.google.com/assets/colab-badge.svg\" alt=\"Open In Colab\"/></a>"
      ]
    },
    {
      "cell_type": "markdown",
      "source": [
        "# 1. Write a Python program to construct the following pattern, using a nested for loop. (Get the number of the 'stars' from the user)."
      ],
      "metadata": {
        "id": "kj2nVD6HfE3j"
      }
    },
    {
      "cell_type": "code",
      "source": [
        "n = 5\n",
        "for i in range(n):\n",
        "    for j in range(i):\n",
        "        print('* ', end=\"\")\n",
        "    print('')\n",
        "for i in range(n, 0, -1):\n",
        "    for j in range(i):\n",
        "        print('* ', end=\"\")\n",
        "    print('')"
      ],
      "metadata": {
        "colab": {
          "base_uri": "https://localhost:8080/"
        },
        "id": "1IbOyBR0fTKV",
        "outputId": "6fa028d9-2b8f-42c8-ea55-97ab6e861ddf"
      },
      "execution_count": 2,
      "outputs": [
        {
          "output_type": "stream",
          "name": "stdout",
          "text": [
            "\n",
            "* \n",
            "* * \n",
            "* * * \n",
            "* * * * \n",
            "* * * * * \n",
            "* * * * \n",
            "* * * \n",
            "* * \n",
            "* \n"
          ]
        }
      ]
    },
    {
      "cell_type": "markdown",
      "source": [
        "# 2. Print the first 3 prime numbers that are greater than 10 but less than 99.\n",
        "\n"
      ],
      "metadata": {
        "id": "EZnJhnxCfA5B"
      }
    },
    {
      "cell_type": "code",
      "source": [
        "def is_prime(num):\n",
        "    \"\"\"Check if a number is prime.\"\"\"\n",
        "    if num < 2:\n",
        "        return False\n",
        "    for i in range(2, int(num**0.5) + 1):\n",
        "        if num % i == 0:\n",
        "            return False\n",
        "\n",
        "    return True\n",
        "count = 0\n",
        "number = 11\n",
        "\n",
        "while count < 3:\n",
        "    if is_prime(number):\n",
        "        print(number)\n",
        "        count += 1\n",
        "    number += 1"
      ],
      "metadata": {
        "colab": {
          "base_uri": "https://localhost:8080/"
        },
        "id": "jzCjpUJVffyK",
        "outputId": "b6ba7272-adb3-49a2-c527-e831373ffb98"
      },
      "execution_count": 3,
      "outputs": [
        {
          "output_type": "stream",
          "name": "stdout",
          "text": [
            "11\n",
            "13\n",
            "17\n"
          ]
        }
      ]
    }
  ]
}