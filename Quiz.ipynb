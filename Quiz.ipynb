{
  "nbformat": 4,
  "nbformat_minor": 0,
  "metadata": {
    "colab": {
      "provenance": [],
      "authorship_tag": "ABX9TyO/K+/ZUiw+c8wM95NwrYpP",
      "include_colab_link": true
    },
    "kernelspec": {
      "name": "python3",
      "display_name": "Python 3"
    },
    "language_info": {
      "name": "python"
    }
  },
  "cells": [
    {
      "cell_type": "markdown",
      "metadata": {
        "id": "view-in-github",
        "colab_type": "text"
      },
      "source": [
        "<a href=\"https://colab.research.google.com/github/sarahmuh/MASAR/blob/main/Quiz.ipynb\" target=\"_parent\"><img src=\"https://colab.research.google.com/assets/colab-badge.svg\" alt=\"Open In Colab\"/></a>"
      ]
    },
    {
      "cell_type": "code",
      "source": [
        "def find_two_sum(nums, target):\n",
        "    num_dict = {}\n",
        "\n",
        "    for i, num in enumerate(nums):\n",
        "        difference = target - num\n",
        "        if difference in num_dict:\n",
        "            return [num_dict[difference], i]\n",
        "        num_dict[num] = i\n",
        "\n",
        "    return None\n",
        "\n",
        "nums = [2, 5, 11, 15, 6, 7, 9, 10]\n",
        "target = 9\n",
        "print(find_two_sum(nums, target))\n"
      ],
      "metadata": {
        "colab": {
          "base_uri": "https://localhost:8080/"
        },
        "id": "dJO5_aEZoQgz",
        "outputId": "a2c83d14-aa14-44a6-f598-cb052672e33a"
      },
      "execution_count": 11,
      "outputs": [
        {
          "output_type": "stream",
          "name": "stdout",
          "text": [
            "[0, 5]\n"
          ]
        }
      ]
    }
  ]
}