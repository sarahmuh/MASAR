{
  "nbformat": 4,
  "nbformat_minor": 0,
  "metadata": {
    "colab": {
      "provenance": [],
      "include_colab_link": true
    },
    "kernelspec": {
      "name": "python3",
      "display_name": "Python 3"
    },
    "language_info": {
      "name": "python"
    }
  },
  "cells": [
    {
      "cell_type": "markdown",
      "metadata": {
        "id": "view-in-github",
        "colab_type": "text"
      },
      "source": [
        "<a href=\"https://colab.research.google.com/github/sarahmuh/MASAR/blob/main/SarahCodingInPython.ipynb\" target=\"_parent\"><img src=\"https://colab.research.google.com/assets/colab-badge.svg\" alt=\"Open In Colab\"/></a>"
      ]
    },
    {
      "cell_type": "markdown",
      "source": [
        "1. Loop:\n",
        "Question:\n",
        "Write a Python program that uses a 'for' loop to print all even numbers from 1 to 10. Then, use 'while' loop."
      ],
      "metadata": {
        "id": "s3ipcakz3HYv"
      }
    },
    {
      "cell_type": "code",
      "execution_count": 1,
      "metadata": {
        "id": "Zox_Orcl3Eug",
        "colab": {
          "base_uri": "https://localhost:8080/"
        },
        "outputId": "b4e43d47-f870-4c9d-9936-f3fa002c937c"
      },
      "outputs": [
        {
          "output_type": "stream",
          "name": "stdout",
          "text": [
            "Using for loop:\n",
            "2\n",
            "4\n",
            "6\n",
            "8\n",
            "10\n"
          ]
        }
      ],
      "source": [
        "# Using for loop\n",
        "print(\"Using for loop:\")\n",
        "for num in range(1, 11):\n",
        "    if num % 2 == 0:\n",
        "        print(num)"
      ]
    },
    {
      "cell_type": "code",
      "source": [
        "# Using while loop\n",
        "print(\"\\nUsing while loop:\")\n",
        "num = 1\n",
        "while num <= 10:\n",
        "    if num % 2 == 0:\n",
        "        print(num)\n",
        "    num += 1"
      ],
      "metadata": {
        "colab": {
          "base_uri": "https://localhost:8080/"
        },
        "id": "JfoPAedOaWXW",
        "outputId": "27034089-4a03-43c0-d402-e19bdfe2e1f9"
      },
      "execution_count": 2,
      "outputs": [
        {
          "output_type": "stream",
          "name": "stdout",
          "text": [
            "\n",
            "Using while loop:\n",
            "2\n",
            "4\n",
            "6\n",
            "8\n",
            "10\n"
          ]
        }
      ]
    },
    {
      "cell_type": "markdown",
      "source": [
        "2. Control Flows:\n",
        "Question:\n",
        "Create a Python function named grade_classifier that takes a student's score as an argument and returns a string indicating their grade. Use the following criteria:\n",
        "\n",
        "Score >= 90: \"A\"\n",
        "80 <= Score < 90: \"B\"\n",
        "70 <= Score < 80: \"C\"\n",
        "60 <= Score < 70: \"D\"\n",
        "Score < 60: \"F\""
      ],
      "metadata": {
        "id": "2mJD3d1P3XwY"
      }
    },
    {
      "cell_type": "code",
      "source": [
        "def grade_classifier(score):\n",
        "    if score >= 90:\n",
        "        return \"A\"\n",
        "    elif 80 <= score < 90:\n",
        "        return \"B\"\n",
        "    elif 70 <= score < 80:\n",
        "        return \"C\"\n",
        "    elif 60 <= score < 70:\n",
        "        return \"D\"\n",
        "    else:\n",
        "        return \"F\"\n",
        "\n",
        "# Example usage:\n",
        "score = 85\n",
        "print(f\"Score: {score}, Grade: {grade_classifier(score)}\")  # Output: Score: 85, Grade: B"
      ],
      "metadata": {
        "id": "i0E9273Y3aat",
        "colab": {
          "base_uri": "https://localhost:8080/"
        },
        "outputId": "a9e8d49d-bb18-46d2-810a-4aa66500a1bd"
      },
      "execution_count": 5,
      "outputs": [
        {
          "output_type": "stream",
          "name": "stdout",
          "text": [
            "Score: 85, Grade: B\n"
          ]
        }
      ]
    },
    {
      "cell_type": "markdown",
      "source": [
        "3. If Conditions:\n",
        "Question:\n",
        "Write a Python program that prompts the user to enter their age. Use if-elif-else statements to categorize and print the user's age group as follows:\n",
        "\n",
        "If the age is less than 13, print \"Child.\"\n",
        "If the age is between 13 and 19 (inclusive), print \"Teenager.\"\n",
        "If the age is between 20 and 59 (inclusive), print \"Adult.\"\n",
        "If the age is 60 or older, print \"Senior Citizen.\""
      ],
      "metadata": {
        "id": "w7EeMAF83cHA"
      }
    },
    {
      "cell_type": "code",
      "source": [
        "# Prompting the user to enter their age\n",
        "age = int(input(\"Enter your age: \"))\n",
        "\n",
        "# Categorizing the age group using if-elif-else statements\n",
        "if age < 13:\n",
        "    print(\"Child.\")\n",
        "elif age >= 13 and age <= 19:\n",
        "    print(\"Teenager.\")\n",
        "elif age >= 20 and age <= 59:\n",
        "    print(\"Adult.\")\n",
        "else:\n",
        "    print(\"Senior Citizen.\")"
      ],
      "metadata": {
        "id": "FUEtX83a3o9C",
        "colab": {
          "base_uri": "https://localhost:8080/"
        },
        "outputId": "36673875-9bfc-45c5-8b7e-7cde5e266b3c"
      },
      "execution_count": 6,
      "outputs": [
        {
          "output_type": "stream",
          "name": "stdout",
          "text": [
            "Enter your age: 24\n",
            "Adult.\n"
          ]
        }
      ]
    },
    {
      "cell_type": "markdown",
      "source": [
        "4. Functions:\n",
        "Question:\n",
        "Define a Python function named multiply_numbers that takes two parameters (num1 and num2) and returns their product. Test the function with values 5 and 7."
      ],
      "metadata": {
        "id": "y9x9lhW63t1R"
      }
    },
    {
      "cell_type": "code",
      "source": [
        "def multiply_numbers(num1, num2):\n",
        "    return num1 * num2\n",
        "\n",
        "# Test the function with values 5 and 7\n",
        "result = multiply_numbers(5, 7)\n",
        "print(\"Result:\", result)"
      ],
      "metadata": {
        "id": "kHuQ4NMa3xqT",
        "colab": {
          "base_uri": "https://localhost:8080/"
        },
        "outputId": "eff02a2c-e03f-4a92-b21f-38ddd0c28e83"
      },
      "execution_count": 7,
      "outputs": [
        {
          "output_type": "stream",
          "name": "stdout",
          "text": [
            "Result: 35\n"
          ]
        }
      ]
    },
    {
      "cell_type": "markdown",
      "source": [
        "5. Combine All the Above:\n",
        "Question:\n",
        "Write a Python program that does the following:\n",
        "\n",
        "Prompts the user to enter a number (user_num).\n",
        "Uses a loop to print all numbers from 1 to user_num (inclusive) that are divisible by 3.\n",
        "Calls the grade_classifier function to classify a user's score (you can use a predefined score for testing).\n",
        "Prints a message indicating whether the classified grade is satisfactory or not."
      ],
      "metadata": {
        "id": "i8tO0E8U3zBB"
      }
    },
    {
      "cell_type": "code",
      "source": [
        "def grade_classifier(score):\n",
        "    if score >= 90:\n",
        "        return \"A\"\n",
        "    elif score >= 80:\n",
        "        return \"B\"\n",
        "    elif score >= 70:\n",
        "        return \"C\"\n",
        "    elif score >= 60:\n",
        "        return \"D\"\n",
        "    else:\n",
        "        return \"F\"\n",
        "\n",
        "def main():\n",
        "    user_num = int(input(\"Enter a number: \"))\n",
        "\n",
        "    print(\"Numbers divisible by 3 from 1 to\", user_num, \"inclusive:\")\n",
        "    for i in range(1, user_num + 1):\n",
        "        if i % 3 == 0:\n",
        "            print(i)\n",
        "\n",
        "    # Testing the grade_classifier function with a predefined score\n",
        "    score = 85  # You can change this score for testing\n",
        "    grade = grade_classifier(score)\n",
        "    print(\"Grade:\", grade)\n",
        "\n",
        "    if grade in [\"A\", \"B\", \"C\"]:\n",
        "        print(\"Satisfactory grade.\")\n",
        "    else:\n",
        "        print(\"Unsatisfactory grade.\")\n",
        "\n",
        "if __name__ == \"__main__\":\n",
        "    main()"
      ],
      "metadata": {
        "id": "i4Q2MOTY31tM",
        "colab": {
          "base_uri": "https://localhost:8080/"
        },
        "outputId": "374d0b36-fce0-4abd-8588-fe09676c8fe6"
      },
      "execution_count": 8,
      "outputs": [
        {
          "output_type": "stream",
          "name": "stdout",
          "text": [
            "Enter a number: 65\n",
            "Numbers divisible by 3 from 1 to 65 inclusive:\n",
            "3\n",
            "6\n",
            "9\n",
            "12\n",
            "15\n",
            "18\n",
            "21\n",
            "24\n",
            "27\n",
            "30\n",
            "33\n",
            "36\n",
            "39\n",
            "42\n",
            "45\n",
            "48\n",
            "51\n",
            "54\n",
            "57\n",
            "60\n",
            "63\n",
            "Grade: B\n",
            "Satisfactory grade.\n"
          ]
        }
      ]
    },
    {
      "cell_type": "markdown",
      "source": [
        "Wish you all the best,\n",
        "\n",
        "Abdul"
      ],
      "metadata": {
        "id": "mPHqYsqW33Uh"
      }
    }
  ]
}