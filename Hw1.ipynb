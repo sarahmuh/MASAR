{
  "nbformat": 4,
  "nbformat_minor": 0,
  "metadata": {
    "colab": {
      "provenance": [],
      "authorship_tag": "ABX9TyPGMqEgxqR006bUqgAqqdtc",
      "include_colab_link": true
    },
    "kernelspec": {
      "name": "python3",
      "display_name": "Python 3"
    },
    "language_info": {
      "name": "python"
    }
  },
  "cells": [
    {
      "cell_type": "markdown",
      "metadata": {
        "id": "view-in-github",
        "colab_type": "text"
      },
      "source": [
        "<a href=\"https://colab.research.google.com/github/sarahmuh/MASAR/blob/main/Hw1.ipynb\" target=\"_parent\"><img src=\"https://colab.research.google.com/assets/colab-badge.svg\" alt=\"Open In Colab\"/></a>"
      ]
    },
    {
      "cell_type": "code",
      "execution_count": 1,
      "metadata": {
        "colab": {
          "base_uri": "https://localhost:8080/"
        },
        "id": "f00Z1A8HZ6Z9",
        "outputId": "a24c1ba8-46a0-4a18-a1b8-3dc55a24e0d0"
      },
      "outputs": [
        {
          "output_type": "stream",
          "name": "stdout",
          "text": [
            "Hello everyone, my name is Sarah, I am 24, :) I will become the best data scientist\n"
          ]
        }
      ],
      "source": [
        "name = 'Sarah'\n",
        "age = '24'\n",
        "print(f'Hello everyone, my name is {name}, I am {age}, :) I will become the best data scientist')"
      ]
    }
  ]
}